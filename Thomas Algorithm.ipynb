{
 "cells": [
  {
   "cell_type": "code",
   "execution_count": 2,
   "metadata": {},
   "outputs": [],
   "source": [
    "%matplotlib inline\n",
    "import numpy as np\n",
    "import matplotlib.pyplot as plt\n",
    "import scipy.linalg as la\n",
    "\n",
    "plt.style.use('default')"
   ]
  },
  {
   "cell_type": "markdown",
   "metadata": {},
   "source": [
    "## Question 1"
   ]
  },
  {
   "cell_type": "code",
   "execution_count": 60,
   "metadata": {},
   "outputs": [],
   "source": [
    "def Thomas(A,d):\n",
    "    n= len(A)\n",
    "    c = np.diagonal(A[:,1:])\n",
    "    c=np.append(c,0)\n",
    "    a= np.diagonal(A[1:])\n",
    "    a= np.insert(a,0,0)\n",
    "    b=np.diagonal(A)\n",
    "\n",
    "    cdash=np.zeros(n-1)\n",
    "    ddash= np.ones(n)\n",
    "\n",
    "    for i in range(0,n-1):\n",
    "        cdash[i] = c[i]/(b[i]-a[i]*cdash[i-1])\n",
    "\n",
    "    for i in range(0,n):\n",
    "        ddash[i] = (d[i] - a[i]*ddash[i-1])/(b[i]-a[i]*cdash[i-1])\n",
    "\n",
    "    x=np.ones(n)\n",
    "    x[n-1] = ddash[n-1]\n",
    "    for i in range(n-2,-1,-1):\n",
    "        x[i] = ddash[i]- cdash[i]*x[i+1]\n",
    "    return x\n",
    "    "
   ]
  },
  {
   "cell_type": "code",
   "execution_count": 4,
   "metadata": {},
   "outputs": [],
   "source": [
    "from scipy.sparse import diags\n",
    "diagonals = [[1, 7, 11, -3], [-1, 2, 3], [-2, 5,8]]\n",
    "A=diags(diagonals, [0, -1, 1]).toarray()\n",
    "print(A)\n",
    "\n",
    "d=np.ones(4)\n",
    "Thomas(A,d)\n",
    "\n",
    "la.solve(A,d)"
   ]
  },
  {
   "cell_type": "markdown",
   "metadata": {},
   "source": [
    "## Question 2"
   ]
  },
  {
   "cell_type": "code",
   "execution_count": 116,
   "metadata": {},
   "outputs": [],
   "source": [
    "def f(x):\n",
    "    return np.sin(x)\n",
    "\n",
    "x= np.linspace(0,5*np.pi,25)\n",
    "y=f(x)\n",
    "xx= np.linspace(0,5*np.pi,250)\n",
    "\n",
    "def spline(x,y,xx):\n",
    "    n= int(len(x))\n",
    "    A = np.zeros(n*n).reshape(n,n)\n",
    "    np.fill_diagonal(A,4)\n",
    "    np.fill_diagonal(A[1:], 1)\n",
    "    np.fill_diagonal(A[:,1:], 1)\n",
    "    A[0][0]=2\n",
    "    A[n-1][n-1]=2\n",
    "    b = np.zeros(n)\n",
    "    b[0] = 3*(y[1]-y[0])\n",
    "    b[n-1] = 3*(y[n-1]-y[n-2])\n",
    "    for i in range(1,n-1):\n",
    "        b[i] = 3*(y[i]-y[i-2])\n",
    "    \n",
    "    D = Thomas(A,b)\n",
    "    \n",
    "    return D"
   ]
  },
  {
   "cell_type": "code",
   "execution_count": 117,
   "metadata": {},
   "outputs": [
    {
     "data": {
      "text/plain": [
       "array([ 8.79221514e-01,  6.78412588e-02,  6.75697738e-01,  1.27145269e-01,\n",
       "       -2.38924503e-01, -5.69224737e-01, -6.47393724e-01, -4.62520710e-01,\n",
       "       -8.52794441e-02,  3.26882618e-01,  6.04033257e-01,  6.31517699e-01,\n",
       "        3.98006266e-01,  1.02630259e-07, -3.98006676e-01, -6.31516262e-01,\n",
       "       -6.04038594e-01, -3.26862708e-01,  8.52051398e-02,  4.62798017e-01,\n",
       "        6.46358801e-01,  5.73087124e-01,  2.24509878e-01, -7.33491556e-02,\n",
       "       -8.76467566e-01])"
      ]
     },
     "execution_count": 117,
     "metadata": {},
     "output_type": "execute_result"
    }
   ],
   "source": [
    "spline(x,y,xx)"
   ]
  },
  {
   "cell_type": "code",
   "execution_count": null,
   "metadata": {},
   "outputs": [],
   "source": []
  },
  {
   "cell_type": "code",
   "execution_count": null,
   "metadata": {},
   "outputs": [],
   "source": []
  },
  {
   "cell_type": "code",
   "execution_count": null,
   "metadata": {},
   "outputs": [],
   "source": []
  }
 ],
 "metadata": {
  "kernelspec": {
   "display_name": "Python 3",
   "language": "python",
   "name": "python3"
  },
  "language_info": {
   "codemirror_mode": {
    "name": "ipython",
    "version": 3
   },
   "file_extension": ".py",
   "mimetype": "text/x-python",
   "name": "python",
   "nbconvert_exporter": "python",
   "pygments_lexer": "ipython3",
   "version": "3.8.3"
  }
 },
 "nbformat": 4,
 "nbformat_minor": 2
}
