{
 "cells": [
  {
   "cell_type": "code",
   "execution_count": 165,
   "metadata": {},
   "outputs": [],
   "source": [
    "%matplotlib inline\n",
    "import numpy as np\n",
    "import matplotlib.pyplot as plt\n",
    "import scipy.linalg as la\n",
    "plt.style.use('default')"
   ]
  },
  {
   "cell_type": "markdown",
   "metadata": {},
   "source": [
    "## Question 1"
   ]
  },
  {
   "cell_type": "code",
   "execution_count": 166,
   "metadata": {},
   "outputs": [
    {
     "name": "stdout",
     "output_type": "stream",
     "text": [
      "1.170884211649402\n",
      "1.1708842116493292\n"
     ]
    }
   ],
   "source": [
    "def Guass(A,b):\n",
    "\n",
    "    if any(np.diag(A)==0):\n",
    "        raise ZeroDivisionError('No pivoting so division by zero')\n",
    "    n = A.shape[0]\n",
    "    for row in range(0, n-1):\n",
    "        for i in range(row+1, n):\n",
    "            factor = A[i,row] / A[row,row]\n",
    "            for j in range(row, n):\n",
    "                A[i,j] = A[i,j] - factor * A[row,j]\n",
    "            b[i] = b[i] - factor * b[row]       \n",
    "    x = np.zeros((n,1))\n",
    "    x[n-1] = b[n-1] / A[n-1, n-1]\n",
    "    for row in range(n-2, -1, -1):\n",
    "        sums = b[row]\n",
    "        for j in range(row+1, n):\n",
    "            sums = sums - A[row,j] * x[j]\n",
    "        x[row] = sums / A[row,row]\n",
    "        \n",
    "    return x\n",
    "\n",
    "A= np.random.rand(100,100)\n",
    "b=np.random.rand(100,1)\n",
    "x2 =np.linalg.solve(A,b)\n",
    "\n",
    "x= Guass(A,b)                \n",
    "\n",
    "\n",
    "print(np.linalg.norm(x,np.inf)  )\n",
    "print(np.linalg.norm(x2,np.inf)  )"
   ]
  },
  {
   "cell_type": "markdown",
   "metadata": {},
   "source": [
    "#### As we can see, the infinity norms are very close as with the case without pivoting since the random generator does not generate zeros so no pivoting required. "
   ]
  },
  {
   "cell_type": "markdown",
   "metadata": {},
   "source": [
    "## Question 2"
   ]
  },
  {
   "cell_type": "code",
   "execution_count": 167,
   "metadata": {},
   "outputs": [
    {
     "name": "stdout",
     "output_type": "stream",
     "text": [
      "1.2383049866008664\n",
      "1.2383049866000102\n"
     ]
    }
   ],
   "source": [
    "def swap_rows(matrix, a, b):\n",
    "    '''\n",
    "    Swaps row a and b in a numpy array\n",
    "    '''\n",
    "    t = matrix[a].copy()\n",
    "    matrix[a] = matrix[b]\n",
    "    matrix[b] = t\n",
    "    \n",
    "    return matrix\n",
    "\n",
    "def Guass_pivot(A,b):\n",
    "\n",
    "    n = A.shape[0]\n",
    " \n",
    "    for row in range(0, n-1):\n",
    "        if A[row,row] == 0:\n",
    "            repl = np.argmax(A[row+1:,row])+row+1\n",
    "        \n",
    "            A = swap_rows(A,repl,row)\n",
    "            \n",
    "            \n",
    "            \n",
    "           \n",
    "            \n",
    "            b1,b2 = b[row],b[repl]\n",
    "            b[row],b[repl] = b2,b2\n",
    "           \n",
    "            \n",
    "        for i in range(row+1, n):\n",
    "            factor = A[i,row] / A[row,row]\n",
    "            for j in range(row, n):\n",
    "                A[i,j] = A[i,j] - factor * A[row,j]\n",
    "            b[i] = b[i] - factor * b[row]       \n",
    "    x = np.zeros((n,1))\n",
    "    x[n-1] = b[n-1] / A[n-1, n-1]\n",
    "    for row in range(n-2, -1, -1):\n",
    "        sums = b[row]\n",
    "        for j in range(row+1, n):\n",
    "            sums = sums - A[row,j] * x[j]\n",
    "        x[row] = sums / A[row,row]\n",
    "        \n",
    "    return x\n",
    "\n",
    "A= np.random.rand(100,100)\n",
    "b=np.random.rand(100,1)\n",
    "\n",
    "x= Guass_pivot(A,b)  \n",
    "x2 =np.linalg.solve(A,b)\n",
    "\n",
    "print(np.linalg.norm(x,np.inf)  )\n",
    "print(np.linalg.norm(x2,np.inf)  )\n",
    "\n",
    "\n"
   ]
  },
  {
   "cell_type": "markdown",
   "metadata": {},
   "source": [
    "## Question 3"
   ]
  },
  {
   "cell_type": "code",
   "execution_count": 169,
   "metadata": {},
   "outputs": [
    {
     "name": "stdout",
     "output_type": "stream",
     "text": [
      "4.801132471080133e+25\n",
      "5.445668339845405\n"
     ]
    }
   ],
   "source": [
    "def LU(mat, n): \n",
    "  \n",
    "    lower = np.zeros(n**2).reshape(n,n)\n",
    "    upper = np.zeros(n**2).reshape(n,n)\n",
    "                  \n",
    "    \n",
    "    for i in range(n): \n",
    "        for k in range(i, n):  \n",
    "           \n",
    "            sum = 0; \n",
    "            for j in range(i): \n",
    "                sum += (lower[i][j] * upper[j][k]); \n",
    "  \n",
    "            \n",
    "            upper[i][k] = mat[i][k] - sum; \n",
    "  \n",
    "     \n",
    "        for k in range(i, n): \n",
    "            if (i == k): \n",
    "                lower[i][i] = 1\n",
    "            else: \n",
    "  \n",
    "               \n",
    "                sum = 0; \n",
    "                for j in range(i): \n",
    "                    sum += (lower[k][j] * upper[j][i]); \n",
    "  \n",
    "              \n",
    "                lower[k][i] = int((mat[k][i] - sum) /\n",
    "                                       upper[i][i]); \n",
    "  \n",
    "    return lower,upper\n",
    "\n",
    "\n",
    "A= np.random.rand(100,100)\n",
    "\n",
    "L,U=LU(A,3)\n",
    "\n",
    "\n",
    "\n",
    "print(np.linalg.det(A))\n",
    "print(np.trace(L)*np.trace(U))\n",
    "\n",
    "\n"
   ]
  },
  {
   "cell_type": "code",
   "execution_count": 1,
   "metadata": {},
   "outputs": [],
   "source": []
  },
  {
   "cell_type": "code",
   "execution_count": null,
   "metadata": {},
   "outputs": [],
   "source": []
  }
 ],
 "metadata": {
  "kernelspec": {
   "display_name": "Python 3",
   "language": "python",
   "name": "python3"
  },
  "language_info": {
   "codemirror_mode": {
    "name": "ipython",
    "version": 3
   },
   "file_extension": ".py",
   "mimetype": "text/x-python",
   "name": "python",
   "nbconvert_exporter": "python",
   "pygments_lexer": "ipython3",
   "version": "3.8.3"
  }
 },
 "nbformat": 4,
 "nbformat_minor": 2
}
